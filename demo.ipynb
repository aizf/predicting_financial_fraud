{
 "nbformat": 4,
 "nbformat_minor": 2,
 "metadata": {
  "language_info": {
   "name": "python",
   "codemirror_mode": {
    "name": "ipython",
    "version": 3
   },
   "version": "3.7.1-final"
  },
  "orig_nbformat": 2,
  "file_extension": ".py",
  "mimetype": "text/x-python",
  "name": "python",
  "npconvert_exporter": "python",
  "pygments_lexer": "ipython3",
  "version": 3,
  "kernelspec": {
   "name": "python37164bitprogramdatavirtualenva3feee2afb4e44a2bfa62d23436484ae",
   "display_name": "Python 3.7.1 64-bit ('ProgramData': virtualenv)"
  }
 },
 "cells": [
  {
   "cell_type": "code",
   "execution_count": 1,
   "metadata": {},
   "outputs": [],
   "source": [
    "import pandas as pd\n",
    "import numpy as np"
   ]
  },
  {
   "cell_type": "code",
   "execution_count": 2,
   "metadata": {},
   "outputs": [
    {
     "data": {
      "text/html": "<div>\n<style scoped>\n    .dataframe tbody tr th:only-of-type {\n        vertical-align: middle;\n    }\n\n    .dataframe tbody tr th {\n        vertical-align: top;\n    }\n\n    .dataframe thead th {\n        text-align: right;\n    }\n</style>\n<table border=\"1\" class=\"dataframe\">\n  <thead>\n    <tr style=\"text-align: right;\">\n      <th></th>\n      <th>COMPANY</th>\n      <th>DATE</th>\n      <th>YEAR</th>\n      <th>ID</th>\n      <th>GAIN</th>\n      <th>LOSS</th>\n      <th>TATA1</th>\n      <th>TATA2</th>\n      <th>CHCS</th>\n      <th>OTHREC</th>\n    </tr>\n  </thead>\n  <tbody>\n    <tr>\n      <th>0</th>\n      <td>1</td>\n      <td>2014-12-31</td>\n      <td>2014</td>\n      <td>20140000001</td>\n      <td>1.984100e+10</td>\n      <td>0.0</td>\n      <td>-9.147210e-07</td>\n      <td>0.000440</td>\n      <td>0.087320</td>\n      <td>0.0</td>\n    </tr>\n    <tr>\n      <th>1</th>\n      <td>1</td>\n      <td>2013-12-31</td>\n      <td>2013</td>\n      <td>20130000001</td>\n      <td>1.516600e+10</td>\n      <td>0.0</td>\n      <td>2.666105e-04</td>\n      <td>0.000696</td>\n      <td>-0.803567</td>\n      <td>0.0</td>\n    </tr>\n    <tr>\n      <th>2</th>\n      <td>1</td>\n      <td>2012-12-31</td>\n      <td>2012</td>\n      <td>20120000001</td>\n      <td>1.338522e+10</td>\n      <td>0.0</td>\n      <td>-9.296631e-04</td>\n      <td>-0.000479</td>\n      <td>3.187515</td>\n      <td>0.0</td>\n    </tr>\n    <tr>\n      <th>3</th>\n      <td>1</td>\n      <td>2011-12-31</td>\n      <td>2011</td>\n      <td>20110000001</td>\n      <td>1.017927e+10</td>\n      <td>0.0</td>\n      <td>3.980625e-04</td>\n      <td>0.000758</td>\n      <td>-4.228793</td>\n      <td>0.0</td>\n    </tr>\n    <tr>\n      <th>4</th>\n      <td>1</td>\n      <td>2010-12-31</td>\n      <td>2010</td>\n      <td>20100000001</td>\n      <td>6.143737e+09</td>\n      <td>0.0</td>\n      <td>-2.697994e-05</td>\n      <td>0.000207</td>\n      <td>1.169672</td>\n      <td>0.0</td>\n    </tr>\n  </tbody>\n</table>\n</div>",
      "text/plain": "   COMPANY        DATE  YEAR           ID          GAIN  LOSS         TATA1  \\\n0        1  2014-12-31  2014  20140000001  1.984100e+10   0.0 -9.147210e-07   \n1        1  2013-12-31  2013  20130000001  1.516600e+10   0.0  2.666105e-04   \n2        1  2012-12-31  2012  20120000001  1.338522e+10   0.0 -9.296631e-04   \n3        1  2011-12-31  2011  20110000001  1.017927e+10   0.0  3.980625e-04   \n4        1  2010-12-31  2010  20100000001  6.143737e+09   0.0 -2.697994e-05   \n\n      TATA2      CHCS  OTHREC  \n0  0.000440  0.087320     0.0  \n1  0.000696 -0.803567     0.0  \n2 -0.000479  3.187515     0.0  \n3  0.000758 -4.228793     0.0  \n4  0.000207  1.169672     0.0  "
     },
     "execution_count": 2,
     "metadata": {},
     "output_type": "execute_result"
    }
   ],
   "source": [
    "df1=pd.read_excel('./data/1.xlsx',sheet_name='四个自变量99-17')    # 可以通过sheet_name来指定读取的表单\n",
    "df2=pd.read_excel('./data/1.xlsx',sheet_name='违规公司黑名单94-20')    # 可以通过sheet_name来指定读取的表单\n",
    "df1.set_index('ID')\n",
    "df2.set_index('ID')\n",
    "df1=df1.dropna()\n",
    "df2=df2.dropna()\n",
    "df1.head()\n",
    "# df2.head()"
   ]
  },
  {
   "cell_type": "code",
   "execution_count": 3,
   "metadata": {},
   "outputs": [
    {
     "name": "stdout",
     "output_type": "stream",
     "text": "COMPANY    0\nDATE       0\nYEAR       0\nID         0\nGAIN       0\nLOSS       0\nTATA1      0\nTATA2      0\nCHCS       0\nOTHREC     0\ndtype: int64\n(35639, 10)\n<class 'pandas.core.frame.DataFrame'>\nInt64Index: 307 entries, 0 to 306\nData columns (total 10 columns):\nCOMPANY    307 non-null int64\nYEAR       307 non-null int64\nYEARS      307 non-null object\nID         307 non-null int64\nTVALUE     307 non-null float64\nVALUE      307 non-null float64\nTYPE       307 non-null object\nTYPEN      307 non-null object\nDID        307 non-null object\nCHEAT      307 non-null int64\ndtypes: float64(2), int64(4), object(4)\nmemory usage: 26.4+ KB\nNone\n"
    }
   ],
   "source": [
    "print(df1.isnull().sum())\n",
    "print(df1.shape)\n",
    "print(df2.info())\n",
    "# df1.iloc[31520:]\n",
    "# df1[df1[\"GAIN\"] > 0.5]\n"
   ]
  },
  {
   "cell_type": "code",
   "execution_count": 33,
   "metadata": {},
   "outputs": [],
   "source": [
    "df3=pd.merge(df1,df2[[\"ID\",\"CHEAT\"]],how=\"left\",on=\"ID\")\n",
    "df3[\"CHEAT\"]=df3[\"CHEAT\"].fillna(0)\n",
    "df3.to_csv(\"./data/1.csv\",index=False)\n"
   ]
  },
  {
   "cell_type": "code",
   "execution_count": 63,
   "metadata": {},
   "outputs": [],
   "source": [
    "from sklearn.ensemble import RandomForestClassifier"
   ]
  }
 ]
}