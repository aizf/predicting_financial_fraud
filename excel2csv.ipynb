{
 "nbformat": 4,
 "nbformat_minor": 2,
 "metadata": {
  "language_info": {
   "name": "python",
   "codemirror_mode": {
    "name": "ipython",
    "version": 3
   },
   "version": "3.7.1-final"
  },
  "orig_nbformat": 2,
  "file_extension": ".py",
  "mimetype": "text/x-python",
  "name": "python",
  "npconvert_exporter": "python",
  "pygments_lexer": "ipython3",
  "version": 3,
  "kernelspec": {
   "name": "python37164bitprogramdatavirtualenva3feee2afb4e44a2bfa62d23436484ae",
   "display_name": "Python 3.7.1 64-bit ('ProgramData': virtualenv)"
  }
 },
 "cells": [
  {
   "cell_type": "code",
   "execution_count": 13,
   "metadata": {},
   "outputs": [],
   "source": [
    "import pandas as pd\n",
    "import numpy as np\n",
    "from tqdm import tqdm"
   ]
  },
  {
   "cell_type": "code",
   "execution_count": 80,
   "metadata": {},
   "outputs": [
    {
     "data": {
      "text/html": "<div>\n<style scoped>\n    .dataframe tbody tr th:only-of-type {\n        vertical-align: middle;\n    }\n\n    .dataframe tbody tr th {\n        vertical-align: top;\n    }\n\n    .dataframe thead th {\n        text-align: right;\n    }\n</style>\n<table border=\"1\" class=\"dataframe\">\n  <thead>\n    <tr style=\"text-align: right;\">\n      <th></th>\n      <th>COMPANY</th>\n      <th>DATE</th>\n      <th>YEAR</th>\n      <th>ID</th>\n      <th>DEPI</th>\n      <th>GAIN</th>\n      <th>LOSS</th>\n      <th>TATA1</th>\n      <th>TATA2</th>\n      <th>CHCS</th>\n      <th>...</th>\n      <th>GMIII</th>\n      <th>SGAI</th>\n      <th>CHROA</th>\n      <th>AQI</th>\n      <th>LVGI</th>\n      <th>DSRI</th>\n      <th>SGI</th>\n      <th>SOFTAS</th>\n      <th>CHINV</th>\n      <th>CHREC</th>\n    </tr>\n  </thead>\n  <tbody>\n    <tr>\n      <th>0</th>\n      <td>000001</td>\n      <td>2014-12-31</td>\n      <td>2014</td>\n      <td>20140000001</td>\n      <td>0.973702</td>\n      <td>1.984100e+10</td>\n      <td>0.0</td>\n      <td>-9.147210e-07</td>\n      <td>0.000440</td>\n      <td>0.087320</td>\n      <td>...</td>\n      <td>1.0</td>\n      <td>NaN</td>\n      <td>0.001003</td>\n      <td>0.892846</td>\n      <td>0.999316</td>\n      <td>0.970355</td>\n      <td>1.377101</td>\n      <td>0.998257</td>\n      <td>NaN</td>\n      <td>0.031616</td>\n    </tr>\n    <tr>\n      <th>1</th>\n      <td>000001</td>\n      <td>2013-12-31</td>\n      <td>2013</td>\n      <td>20130000001</td>\n      <td>0.948619</td>\n      <td>1.516600e+10</td>\n      <td>0.0</td>\n      <td>2.666105e-04</td>\n      <td>0.000696</td>\n      <td>-0.803567</td>\n      <td>...</td>\n      <td>1.0</td>\n      <td>NaN</td>\n      <td>-0.000725</td>\n      <td>0.887073</td>\n      <td>0.993176</td>\n      <td>1.466035</td>\n      <td>1.318226</td>\n      <td>0.998047</td>\n      <td>NaN</td>\n      <td>0.052890</td>\n    </tr>\n    <tr>\n      <th>2</th>\n      <td>000001</td>\n      <td>2012-12-31</td>\n      <td>2012</td>\n      <td>20120000001</td>\n      <td>0.877270</td>\n      <td>1.338522e+10</td>\n      <td>0.0</td>\n      <td>-9.296631e-04</td>\n      <td>-0.000479</td>\n      <td>3.187515</td>\n      <td>...</td>\n      <td>1.0</td>\n      <td>NaN</td>\n      <td>-0.001034</td>\n      <td>0.785867</td>\n      <td>1.007583</td>\n      <td>0.402320</td>\n      <td>1.337744</td>\n      <td>0.997799</td>\n      <td>NaN</td>\n      <td>-0.059426</td>\n    </tr>\n    <tr>\n      <th>3</th>\n      <td>000001</td>\n      <td>2011-12-31</td>\n      <td>2011</td>\n      <td>20110000001</td>\n      <td>1.004569</td>\n      <td>1.017927e+10</td>\n      <td>0.0</td>\n      <td>3.980625e-04</td>\n      <td>0.000758</td>\n      <td>-4.228793</td>\n      <td>...</td>\n      <td>1.0</td>\n      <td>NaN</td>\n      <td>0.000910</td>\n      <td>0.851472</td>\n      <td>0.985056</td>\n      <td>3.452926</td>\n      <td>1.656281</td>\n      <td>0.997199</td>\n      <td>NaN</td>\n      <td>0.153211</td>\n    </tr>\n    <tr>\n      <th>4</th>\n      <td>000001</td>\n      <td>2010-12-31</td>\n      <td>2010</td>\n      <td>20100000001</td>\n      <td>1.155798</td>\n      <td>6.143737e+09</td>\n      <td>0.0</td>\n      <td>-2.697994e-05</td>\n      <td>0.000207</td>\n      <td>1.169672</td>\n      <td>...</td>\n      <td>1.0</td>\n      <td>NaN</td>\n      <td>0.000085</td>\n      <td>1.127889</td>\n      <td>0.988782</td>\n      <td>0.745035</td>\n      <td>1.228627</td>\n      <td>0.996710</td>\n      <td>NaN</td>\n      <td>-0.004532</td>\n    </tr>\n  </tbody>\n</table>\n<p>5 rows × 22 columns</p>\n</div>",
      "text/plain": "  COMPANY        DATE  YEAR           ID      DEPI          GAIN  LOSS  \\\n0  000001  2014-12-31  2014  20140000001  0.973702  1.984100e+10   0.0   \n1  000001  2013-12-31  2013  20130000001  0.948619  1.516600e+10   0.0   \n2  000001  2012-12-31  2012  20120000001  0.877270  1.338522e+10   0.0   \n3  000001  2011-12-31  2011  20110000001  1.004569  1.017927e+10   0.0   \n4  000001  2010-12-31  2010  20100000001  1.155798  6.143737e+09   0.0   \n\n          TATA1     TATA2      CHCS    ...     GMIII  SGAI     CHROA  \\\n0 -9.147210e-07  0.000440  0.087320    ...       1.0   NaN  0.001003   \n1  2.666105e-04  0.000696 -0.803567    ...       1.0   NaN -0.000725   \n2 -9.296631e-04 -0.000479  3.187515    ...       1.0   NaN -0.001034   \n3  3.980625e-04  0.000758 -4.228793    ...       1.0   NaN  0.000910   \n4 -2.697994e-05  0.000207  1.169672    ...       1.0   NaN  0.000085   \n\n        AQI      LVGI      DSRI       SGI    SOFTAS  CHINV     CHREC  \n0  0.892846  0.999316  0.970355  1.377101  0.998257    NaN  0.031616  \n1  0.887073  0.993176  1.466035  1.318226  0.998047    NaN  0.052890  \n2  0.785867  1.007583  0.402320  1.337744  0.997799    NaN -0.059426  \n3  0.851472  0.985056  3.452926  1.656281  0.997199    NaN  0.153211  \n4  1.127889  0.988782  0.745035  1.228627  0.996710    NaN -0.004532  \n\n[5 rows x 22 columns]"
     },
     "execution_count": 80,
     "metadata": {},
     "output_type": "execute_result"
    }
   ],
   "source": [
    "file='./data/1.xlsx'\n",
    "df1=pd.read_excel(file,sheet_name='四个自变量99-17',\n",
    "keep_default_na=False,\n",
    "    dtype={\n",
    "        'COMPANY': str,\n",
    "        'YEAR': str,\n",
    "        'ID': str,\n",
    "    })\n",
    "df2=pd.read_excel(file,sheet_name='违规信息黑名单94-20',keep_default_na=False,\n",
    "    dtype={\n",
    "        'COMPANY': str,\n",
    "        'YEAR': str,\n",
    "        'YEARS': str,\n",
    "        'ID': str\n",
    "    })\n",
    "\n",
    "df1.drop([\"有格式版本\"],axis=1,inplace=True)\n",
    "# df1.set_index('ID')\n",
    "# df2.set_index('ID')\n",
    "# df1[df1[\"DEPI\"].isnull()]=None\n",
    "# df1=df1.dropna().reset_index(drop=True)\n",
    "# df2=df2.dropna().reset_index(drop=True)\n",
    "df1.head()\n",
    "# df2.head()"
   ]
  },
  {
   "cell_type": "code",
   "execution_count": 84,
   "metadata": {},
   "outputs": [
    {
     "name": "stdout",
     "output_type": "stream",
     "text": "(35800, 22)\n(30510, 22)\n"
    }
   ],
   "source": [
    "# print(df1.isnull().sum())\n",
    "print(df1.shape)\n",
    "columns=list(df1.columns)\n",
    "columns.remove(\"DEPI\")\n",
    "df3=df1.copy()\n",
    "for col in columns:\n",
    "    df3=df3[~df3[col].isnull()]\n",
    "# print(a)\n",
    "print(df3.shape)\n",
    "# print(df2.info())\n",
    "# df1.iloc[31520:]\n",
    "# df1[df1[\"GAIN\"] > 0.5]\n"
   ]
  },
  {
   "cell_type": "code",
   "execution_count": 85,
   "metadata": {},
   "outputs": [
    {
     "name": "stdout",
     "output_type": "stream",
     "text": "1009\n['20120000007', '20130000007', '20140000007', '20150000010', '20160000010', '20010000013', '20140000020', '20150000020', '20110000033', '20120000033', '20130000033', '20140000033', '20030000034', '20040000034', '20040000035', '19990000037', '20000000037', '20010000037', '20020000037', '20030000038', '20040000038', '20060000040', '20070000040', '20080000040', '20090000040', '20100000040', '20020000156', '20030000156', '20040000156', '20070000403', '20080000403', '20090000403', '20100000403', '20110000403', '20120000403', '20130000403', '20120000408', '20130000408', '20170000408', '20180000408', '20190000408', '20000000409', '20010000409', '20020000409', '20030000409', '20040000409', '20030000421', '20040000421', '20030000498', '20040000498']\n"
    }
   ],
   "source": [
    "def cal_cheat_ids():\n",
    "    cheat_ids=[]\n",
    "    for index, row in df2.iterrows():\n",
    "        COMPANY=row['COMPANY']\n",
    "        YEARS=row['YEARS'].strip(\" \").split(\",\")\n",
    "        for YEAR in YEARS:\n",
    "            cheat_ids.append(str(int(YEAR)*10000000+int(COMPANY)))\n",
    "    return cheat_ids\n",
    "\n",
    "#  show the first 50 items\n",
    "cheat_ids=cal_cheat_ids()\n",
    "print(len(cheat_ids))\n",
    "print(cheat_ids[:50])\n"
   ]
  },
  {
   "cell_type": "code",
   "execution_count": 86,
   "metadata": {},
   "outputs": [
    {
     "name": "stdout",
     "output_type": "stream",
     "text": "COMPANY    False\nDATE       False\nYEAR       False\nID         False\nDEPI        True\nGAIN       False\nLOSS       False\nTATA1      False\nTATA2      False\nCHCS       False\nOTHREC     False\nGMI        False\nGMIII      False\nSGAI       False\nCHROA      False\nAQI        False\nLVGI       False\nDSRI       False\nSGI        False\nSOFTAS     False\nCHINV      False\nCHREC      False\nCHEAT      False\ndtype: bool\n"
    }
   ],
   "source": [
    "cheat_ids=cal_cheat_ids()\n",
    "\n",
    "# df3=pd.merge(df1,df2[[\"ID\",\"CHEAT\"]],how=\"left\",on=\"ID\")\n",
    "df3[\"CHEAT\"]=None\n",
    "\n",
    "df_0=df3[~df3[\"ID\"].isin(cheat_ids)]\n",
    "df_0[\"CHEAT\"]=0\n",
    "\n",
    "df_1=df3[df3[\"ID\"].isin(cheat_ids)]\n",
    "df_1[\"CHEAT\"]=1\n",
    "\n",
    "df3=pd.concat([df_0,df_1]).reset_index(drop=True)\n",
    "\n",
    "print(df3.isnull().any())\n",
    "df3.to_csv(\"./data/1.csv\",index=False)\n",
    "\n",
    "# with tqdm(total=df3.shape[0]) as pbar:\n",
    "#     for index, row in df3.iterrows():\n",
    "#         # if index and (index%20)==0:\n",
    "#             # print(index)\n",
    "#             # pbar.update(20)\n",
    "#         # if row[\"ID\"]== \"20120000007\":\n",
    "#         #     print(row[\"ID\"] in cheat_ids)\n",
    "#         if row[\"ID\"] in cheat_ids:\n",
    "#             df3[\"CHEAT\"].iloc[index]=1\n",
    "#             cheat_ids.remove(row[\"ID\"])\n",
    "#         else:\n",
    "#             df3[\"CHEAT\"].iloc[index]=0\n",
    "#         pbar.update(1)\n",
    "\n",
    "# print(df3.isnull().any())\n",
    "# df3.to_csv(\"./data/1.csv\",index=False)"
   ]
  },
  {
   "cell_type": "code",
   "execution_count": 87,
   "metadata": {},
   "outputs": [
    {
     "name": "stdout",
     "output_type": "stream",
     "text": "(689, 23)\n(29821, 23)\n"
    }
   ],
   "source": [
    "print(df3[df3[\"CHEAT\"]==1].shape)\n",
    "print(df3[df3[\"CHEAT\"]==0].shape)"
   ]
  },
  {
   "cell_type": "code",
   "execution_count": null,
   "metadata": {},
   "outputs": [],
   "source": []
  }
 ]
}