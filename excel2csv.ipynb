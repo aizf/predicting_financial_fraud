{
 "nbformat": 4,
 "nbformat_minor": 2,
 "metadata": {
  "language_info": {
   "name": "python",
   "codemirror_mode": {
    "name": "ipython",
    "version": 3
   },
   "version": "3.7.1-final"
  },
  "orig_nbformat": 2,
  "file_extension": ".py",
  "mimetype": "text/x-python",
  "name": "python",
  "npconvert_exporter": "python",
  "pygments_lexer": "ipython3",
  "version": 3,
  "kernelspec": {
   "name": "python37164bitprogramdatavirtualenva3feee2afb4e44a2bfa62d23436484ae",
   "display_name": "Python 3.7.1 64-bit ('ProgramData': virtualenv)"
  }
 },
 "cells": [
  {
   "cell_type": "code",
   "execution_count": 1,
   "metadata": {},
   "outputs": [],
   "source": [
    "import pandas as pd\n",
    "import numpy as np"
   ]
  },
  {
   "cell_type": "code",
   "execution_count": 2,
   "metadata": {},
   "outputs": [
    {
     "data": {
      "text/html": "<div>\n<style scoped>\n    .dataframe tbody tr th:only-of-type {\n        vertical-align: middle;\n    }\n\n    .dataframe tbody tr th {\n        vertical-align: top;\n    }\n\n    .dataframe thead th {\n        text-align: right;\n    }\n</style>\n<table border=\"1\" class=\"dataframe\">\n  <thead>\n    <tr style=\"text-align: right;\">\n      <th></th>\n      <th>COMPANY</th>\n      <th>DATE</th>\n      <th>YEAR</th>\n      <th>ID</th>\n      <th>GAIN</th>\n      <th>LOSS</th>\n      <th>TATA1</th>\n      <th>TATA2</th>\n      <th>CHCS</th>\n      <th>OTHREC</th>\n    </tr>\n  </thead>\n  <tbody>\n    <tr>\n      <th>0</th>\n      <td>000001</td>\n      <td>2014-12-31</td>\n      <td>2014</td>\n      <td>20140000001</td>\n      <td>1.984100e+10</td>\n      <td>0.0</td>\n      <td>-9.147210e-07</td>\n      <td>0.000440</td>\n      <td>0.087320</td>\n      <td>0.0</td>\n    </tr>\n    <tr>\n      <th>1</th>\n      <td>000001</td>\n      <td>2013-12-31</td>\n      <td>2013</td>\n      <td>20130000001</td>\n      <td>1.516600e+10</td>\n      <td>0.0</td>\n      <td>2.666105e-04</td>\n      <td>0.000696</td>\n      <td>-0.803567</td>\n      <td>0.0</td>\n    </tr>\n    <tr>\n      <th>2</th>\n      <td>000001</td>\n      <td>2012-12-31</td>\n      <td>2012</td>\n      <td>20120000001</td>\n      <td>1.338522e+10</td>\n      <td>0.0</td>\n      <td>-9.296631e-04</td>\n      <td>-0.000479</td>\n      <td>3.187515</td>\n      <td>0.0</td>\n    </tr>\n    <tr>\n      <th>3</th>\n      <td>000001</td>\n      <td>2011-12-31</td>\n      <td>2011</td>\n      <td>20110000001</td>\n      <td>1.017927e+10</td>\n      <td>0.0</td>\n      <td>3.980625e-04</td>\n      <td>0.000758</td>\n      <td>-4.228793</td>\n      <td>0.0</td>\n    </tr>\n    <tr>\n      <th>4</th>\n      <td>000001</td>\n      <td>2010-12-31</td>\n      <td>2010</td>\n      <td>20100000001</td>\n      <td>6.143737e+09</td>\n      <td>0.0</td>\n      <td>-2.697994e-05</td>\n      <td>0.000207</td>\n      <td>1.169672</td>\n      <td>0.0</td>\n    </tr>\n  </tbody>\n</table>\n</div>",
      "text/plain": "  COMPANY        DATE  YEAR           ID          GAIN  LOSS         TATA1  \\\n0  000001  2014-12-31  2014  20140000001  1.984100e+10   0.0 -9.147210e-07   \n1  000001  2013-12-31  2013  20130000001  1.516600e+10   0.0  2.666105e-04   \n2  000001  2012-12-31  2012  20120000001  1.338522e+10   0.0 -9.296631e-04   \n3  000001  2011-12-31  2011  20110000001  1.017927e+10   0.0  3.980625e-04   \n4  000001  2010-12-31  2010  20100000001  6.143737e+09   0.0 -2.697994e-05   \n\n      TATA2      CHCS  OTHREC  \n0  0.000440  0.087320     0.0  \n1  0.000696 -0.803567     0.0  \n2 -0.000479  3.187515     0.0  \n3  0.000758 -4.228793     0.0  \n4  0.000207  1.169672     0.0  "
     },
     "execution_count": 2,
     "metadata": {},
     "output_type": "execute_result"
    }
   ],
   "source": [
    "df1=pd.read_excel('./data/1.xlsx',sheet_name='四个自变量99-17',\n",
    "keep_default_na=False,\n",
    "    dtype={\n",
    "        'COMPANY': str,\n",
    "        'YEAR': str,\n",
    "        'ID': str,\n",
    "    })\n",
    "df2=pd.read_excel('./data/1.xlsx',sheet_name='违规信息黑名单94-20',keep_default_na=False,\n",
    "    dtype={\n",
    "        'COMPANY': str,\n",
    "        'YEAR': str,\n",
    "        'YEARS': str,\n",
    "        'ID': str,\n",
    "        'CHEAT': int\n",
    "    })\n",
    "# df1.set_index('ID')\n",
    "# df2.set_index('ID')\n",
    "df1=df1.dropna()\n",
    "df2=df2.dropna()\n",
    "df1.head()\n",
    "# df2.head()"
   ]
  },
  {
   "cell_type": "code",
   "execution_count": 3,
   "metadata": {},
   "outputs": [
    {
     "name": "stdout",
     "output_type": "stream",
     "text": "COMPANY    0\nDATE       0\nYEAR       0\nID         0\nGAIN       0\nLOSS       0\nTATA1      0\nTATA2      0\nCHCS       0\nOTHREC     0\ndtype: int64\n(35639, 10)\n<class 'pandas.core.frame.DataFrame'>\nInt64Index: 360 entries, 0 to 359\nData columns (total 10 columns):\nCOMPANY    360 non-null object\nYEAR       360 non-null object\nYEARS      360 non-null object\nID         360 non-null object\nTVALUE     360 non-null float64\nVALUE      360 non-null float64\nTYPE       360 non-null object\nTYPEN      360 non-null object\nDID        360 non-null object\nCHEAT      360 non-null int32\ndtypes: float64(2), int32(1), object(7)\nmemory usage: 29.5+ KB\nNone\n"
    }
   ],
   "source": [
    "print(df1.isnull().sum())\n",
    "print(df1.shape)\n",
    "print(df2.info())\n",
    "# df1.iloc[31520:]\n",
    "# df1[df1[\"GAIN\"] > 0.5]\n"
   ]
  },
  {
   "cell_type": "code",
   "execution_count": 6,
   "metadata": {},
   "outputs": [
    {
     "name": "stdout",
     "output_type": "stream",
     "text": "1009\n['20120000007', '20130000007', '20140000007', '20150000010', '20160000010', '20010000013', '20140000020', '20150000020', '20110000033', '20120000033', '20130000033', '20140000033', '20030000034', '20040000034', '20040000035', '19990000037', '20000000037', '20010000037', '20020000037', '20030000038', '20040000038', '20060000040', '20070000040', '20080000040', '20090000040', '20100000040', '20020000156', '20030000156', '20040000156', '20070000403', '20080000403', '20090000403', '20100000403', '20110000403', '20120000403', '20130000403', '20120000408', '20130000408', '20170000408', '20180000408', '20190000408', '20000000409', '20010000409', '20020000409', '20030000409', '20040000409', '20030000421', '20040000421', '20030000498', '20040000498']\n"
    }
   ],
   "source": [
    "def cal_cheat_ids():\n",
    "    cheat_ids=[]\n",
    "    for index, row in df2.iterrows():\n",
    "        COMPANY=row['COMPANY']\n",
    "        YEARS=row['YEARS'].strip(\" \").split(\",\")\n",
    "        for YEAR in YEARS:\n",
    "            cheat_ids.append(str(int(YEAR)*10000000+int(COMPANY)))\n",
    "    return cheat_ids\n",
    "\n",
    "#  show the first 50 items\n",
    "cheat_ids=cal_cheat_ids()\n",
    "print(len(cheat_ids))\n",
    "print(cheat_ids[:50])\n"
   ]
  },
  {
   "cell_type": "code",
   "execution_count": 7,
   "metadata": {},
   "outputs": [
    {
     "name": "stdout",
     "output_type": "stream",
     "text": "0\n100\n200\n300\n400\n500\n600\n700\n800\n900\n1000\n1100\n1200\n1300\n1400\n1500\n1600\n1700\n1800\n1900\n2000\n2100\n2200\n2300\n2400\n2500\n2600\n2700\n2800\n2900\n3000\n3100\n3200\n3300\n3400\n3500\n3600\n3700\n3800\n3900\n4000\n4100\n4200\n4300\n4400\n4500\n4600\n4700\n4800\n4900\n5000\n5100\n5200\n5300\n5400\n5500\n5600\n5700\n5800\n5900\n6000\n6100\n6200\n6300\n6400\n6500\n6600\n6700\n6800\n6900\n7000\n7100\n7200\n7300\n7400\n7500\n7600\n7700\n7800\n7900\n8000\n8100\n8200\n8300\n8400\n8500\n8600\n8700\n8800\n8900\n9000\n9100\n9200\n9300\n9400\n9500\n9600\n9700\n9800\n9900\n10000\n10100\n10200\n10300\n10400\n10500\n10600\n10700\n10800\n10900\n11000\n11100\n11200\n11300\n11400\n11500\n11600\n11700\n11800\n11900\n12000\n12100\n12200\n12300\n12400\n12500\n12600\n12700\n12800\n12900\n13000\n13100\n13200\n13300\n13400\n13500\n13600\n13700\n13800\n13900\n14000\n14100\n14200\n14300\n14400\n14500\n14600\n14700\n14800\n14900\n15000\n15100\n15200\n15300\n15400\n15500\n15600\n15700\n15800\n15900\n16000\n16100\n16200\n16300\n16400\n16500\n16600\n16700\n16800\n16900\n17000\n17100\n17200\n17300\n17400\n17500\n17600\n17700\n17800\n17900\n18000\n18100\n18200\n18300\n18400\n18500\n18600\n18700\n18800\n18900\n19000\n19100\n19200\n19300\n19400\n19500\n19600\n19700\n19800\n19900\n20000\n20100\n20200\n20300\n20400\n20500\n20600\n20700\n20800\n20900\n21000\n21100\n21200\n21300\n21400\n21500\n21600\n21700\n21800\n21900\n22000\n22100\n22200\n22300\n22400\n22500\n22600\n22700\n22800\n22900\n23000\n23100\n23200\n23300\n23400\n23500\n23600\n23700\n23800\n23900\n24000\n24100\n24200\n24300\n24400\n24500\n24600\n24700\n24800\n24900\n25000\n25100\n25200\n25300\n25400\n25500\n25600\n25700\n25800\n25900\n26000\n26100\n26200\n26300\n26400\n26500\n26600\n26700\n26800\n26900\n27000\n27100\n27200\n27300\n27400\n27500\n27600\n27700\n27800\n27900\n28000\n28100\n28200\n28300\n28400\n28500\n28600\n28700\n28800\n28900\n29000\n29100\n29200\n29300\n29400\n29500\n29600\n29700\n29800\n29900\n30000\n30100\n30200\n30300\n30400\n30500\n30600\n30700\n30800\n30900\n31000\n31100\n31200\n31300\n31400\n31500\n31600\n31700\n31800\n31900\n32000\n32100\n32200\n32300\n32400\n32500\n32600\n32700\n32800\n32900\n33000\n33100\n33200\n33300\n33400\n33500\n33600\n33700\n33800\n33900\n34000\n34100\n34200\n34300\n34400\n34500\n34600\n34700\n34800\n34900\n35000\n35100\n35200\n35300\n35400\n35500\n35600\nCOMPANY    False\nDATE       False\nYEAR       False\nID         False\nGAIN       False\nLOSS       False\nTATA1      False\nTATA2      False\nCHCS       False\nOTHREC     False\nCHEAT      False\ndtype: bool\n"
    }
   ],
   "source": [
    "cheat_ids=cal_cheat_ids()\n",
    "\n",
    "df3=pd.merge(df1,df2[[\"ID\",\"CHEAT\"]],how=\"left\",on=\"ID\")\n",
    "\n",
    "for index, row in df3.iterrows():\n",
    "    if index%100==0:\n",
    "        print(index)\n",
    "    # if row[\"ID\"]== \"20120000007\":\n",
    "    #     print(row[\"ID\"] in cheat_ids)\n",
    "    if row[\"ID\"] in cheat_ids:\n",
    "        df3[\"CHEAT\"].iloc[index]=1\n",
    "        cheat_ids.remove(row[\"ID\"])\n",
    "    else:\n",
    "        df3[\"CHEAT\"].iloc[index]=0\n",
    "\n",
    "print(df3.isnull().any())\n",
    "# df3[\"CHEAT\"]=df3[\"CHEAT\"].fillna(0)\n",
    "df3.to_csv(\"./data/1.csv\",index=False)"
   ]
  },
  {
   "cell_type": "code",
   "execution_count": 10,
   "metadata": {},
   "outputs": [
    {
     "data": {
      "text/plain": "(821, 11)"
     },
     "execution_count": 10,
     "metadata": {},
     "output_type": "execute_result"
    }
   ],
   "source": [
    "df3[df3[\"CHEAT\"]==1].shape"
   ]
  },
  {
   "cell_type": "code",
   "execution_count": null,
   "metadata": {},
   "outputs": [],
   "source": []
  }
 ]
}